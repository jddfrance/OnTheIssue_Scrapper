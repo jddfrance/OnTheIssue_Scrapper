{
  "nbformat": 4,
  "nbformat_minor": 0,
  "metadata": {
    "colab": {
      "provenance": [],
      "authorship_tag": "ABX9TyMkhuvx05hJMxR8yzWdvL/r",
      "include_colab_link": true
    },
    "kernelspec": {
      "name": "python3",
      "display_name": "Python 3"
    },
    "language_info": {
      "name": "python"
    }
  },
  "cells": [
    {
      "cell_type": "markdown",
      "metadata": {
        "id": "view-in-github",
        "colab_type": "text"
      },
      "source": [
        "<a href=\"https://colab.research.google.com/github/jddfrance/OnTheIssue_Scrapper/blob/main/conversor_ofx_v1.ipynb\" target=\"_parent\"><img src=\"https://colab.research.google.com/assets/colab-badge.svg\" alt=\"Open In Colab\"/></a>"
      ]
    },
    {
      "cell_type": "code",
      "source": [
        "#primeiramente arraste o arquivo para a pasta do collab. O xlsx será gerado na mesma pasta para download\n",
        "#Coloque aqui o nome do arquivo e execute o código usando shift enter duas vezes.\n",
        "arquivo = '08 - Extrato Bradesco Agosto 2022.OFX'"
      ],
      "metadata": {
        "id": "f4gb65b2brDS"
      },
      "execution_count": 13,
      "outputs": []
    },
    {
      "cell_type": "code",
      "source": [
        "!pip install ofxparse\n",
        "import pandas as pd\n",
        "import codecs\n",
        "from ofxparse import OfxParser\n",
        "import numpy as np\n",
        "\n",
        "with codecs.open(arquivo) as fileobj:\n",
        "    ofx = OfxParser.parse(fileobj)\n",
        "\n",
        "statement = ofx.account.statement\n",
        "transactions = []\n",
        "for transaction in statement.transactions:\n",
        "  df = {\n",
        "      'payee': transaction.payee,\n",
        "      'type': transaction.type,\n",
        "      'date': transaction.date,\n",
        "      'user_date': transaction.user_date,\n",
        "      'ammount': transaction.amount,\n",
        "      'id': transaction.id,\n",
        "      'memo': transaction.memo,\n",
        "      'sic': transaction.sic,\n",
        "      'mcc': transaction.mcc,\n",
        "      'checknum': transaction.checknum\n",
        "  }\n",
        "  df = pd.DataFrame(df, index=[0])\n",
        "  transactions.append(df)\n",
        "  \n",
        "df = pd.concat(transactions)\n",
        "df = df.replace('', np.nan).dropna(axis = 1, how = \"all\")  #remove strings vazias e substituiu por np.nans e dropa colunas 100% nulls ou nans\n",
        "df = df.reset_index(drop = True)\n",
        "df.to_excel(f'{arquivo.split(\".\")[0]}.xlsx')"
      ],
      "metadata": {
        "id": "HJjWkrKnceZS"
      },
      "execution_count": 33,
      "outputs": []
    }
  ]
}